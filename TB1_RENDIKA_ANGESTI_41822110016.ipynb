# eda_markets_complete.py

import pandas as pd
import matplotlib.pyplot as plt
import seaborn as sns
from google.colab import files

# Upload dataset
uploaded = files.upload()

# Load dataset (ganti nama file jika beda)
df = pd.read_csv('markets_cleaned.csv')

# Set style visualisasi
sns.set(style="whitegrid")

# 1. Informasi Umum Dataset
print("=== Informasi Dataset ===")
print(df.info())
print(df.describe(include='all'))
print("Nilai kosong per kolom:\n", df.isnull().sum())

# 2. Jumlah Pasar per Negara Bagian
plt.figure(figsize=(12, 6))
state_counts = df['state'].value_counts()
sns.barplot(x=state_counts.index, y=state_counts.values, palette="viridis")
plt.title("Jumlah Pasar per Negara Bagian")
plt.xlabel("Negara Bagian")
plt.ylabel("Jumlah Pasar")
plt.xticks(rotation=90)
plt.tight_layout()
plt.show()

# 3. Produk Terpopuler
product_columns = [
    'Bakedgoods', 'Cheese', 'Crafts', 'Flowers', 'Eggs', 'Seafood',
    'Herbs', 'Vegetables', 'Honey', 'Jams', 'Maple', 'Meat', 'Nursery',
    'Nuts', 'Plants', 'Poultry', 'Prepared', 'Soap', 'Trees', 'Wine', 'Fruits'
]

product_counts = df[product_columns].sum().sort_values(ascending=False)
plt.figure(figsize=(12, 6))
sns.barplot(x=product_counts.index, y=product_counts.values, palette="magma")
plt.title("Produk Terpopuler")
plt.xlabel("Produk")
plt.ylabel("Jumlah Pasar yang Menjual")
plt.xticks(rotation=45)
plt.tight_layout()
plt.show()

# 4. Lama Pasar Buka vs Jumlah Produk Dijual
plt.figure(figsize=(10, 6))
sns.scatterplot(data=df, x='months_open', y='num_items_sold')
plt.title("Lama Pasar Buka vs Jumlah Produk Dijual")
plt.xlabel("Lama Pasar Buka (bulan)")
plt.ylabel("Jumlah Produk Dijual")
plt.tight_layout()
plt.show()

# 5. Sebaran Lokasi Pasar
plt.figure(figsize=(10, 6))
sns.scatterplot(data=df, x='lon', y='lat', hue='state', legend=False, alpha=0.6)
plt.title("Sebaran Lokasi Pasar")
plt.xlabel("Longitude")
plt.ylabel("Latitude")
plt.tight_layout()
plt.show()

# 6. Korelasi Antar Fitur Numerik (hanya kolom numerik)
plt.figure(figsize=(10, 8))
numeric_cols = df.select_dtypes(include=['number'])  # pilih hanya kolom numerik
sns.heatmap(numeric_cols.corr(), annot=True, cmap='coolwarm', fmt=".2f", linewidths=0.5)
plt.title("Korelasi Fitur Numerik")
plt.tight_layout()
plt.show()


# 7. Jumlah Pasar Berdasarkan Status Pembayaran (Jika ada kolom 'payment_status')
if 'payment_status' in df.columns:
    plt.figure(figsize=(8, 5))
    sns.countplot(data=df, x='payment_status')
    plt.title("Jumlah Pasar berdasarkan Status Pembayaran")
    plt.tight_layout()
    plt.show()
else:
    print("Kolom 'payment_status' tidak ditemukan, analisis dilewati.")

# 8. Rata-Rata Harga Produk per Negara Bagian (Jika ada kolom 'average_price')
if 'average_price' in df.columns:
    plt.figure(figsize=(12, 6))
    sns.boxplot(data=df, x='state', y='average_price')
    plt.title("Distribusi Harga Produk per Negara Bagian")
    plt.xticks(rotation=90)
    plt.tight_layout()
    plt.show()
else:
    print("Kolom 'average_price' tidak ditemukan, analisis dilewati.")

# 9. Perbandingan Produk Organik vs Non-Organik (Jika ada kolom 'organic')
if 'organic' in df.columns:
    organic_counts = df['organic'].value_counts()
    plt.figure(figsize=(6, 4))
    sns.barplot(x=organic_counts.index, y=organic_counts.values)
    plt.title("Perbandingan Produk Organik vs Non-Organik")
    plt.tight_layout()
    plt.show()
else:
    print("Kolom 'organic' tidak ditemukan, analisis dilewati.")

# 10. Trend Pembukaan Pasar per Tahun (Jika ada kolom 'open_date')
if 'open_date' in df.columns:
    df['year_open'] = pd.to_datetime(df['open_date'], errors='coerce').dt.year
    plt.figure(figsize=(12, 6))
    sns.countplot(data=df, x='year_open')
    plt.title("Trend Pembukaan Pasar per Tahun")
    plt.xticks(rotation=90)
    plt.tight_layout()
    plt.show()
else:
    print("Kolom 'open_date' tidak ditemukan, analisis dilewati.")

# 11. Hubungan Jumlah Vendor dengan Jumlah Produk Dijual (Jika ada kolom 'num_vendors')
if 'num_vendors' in df.columns:
    plt.figure(figsize=(10, 6))
    sns.scatterplot(data=df, x='num_vendors', y='num_items_sold')
    plt.title("Jumlah Vendor vs Jumlah Produk Dijual")
    plt.xlabel("Jumlah Vendor")
    plt.ylabel("Jumlah Produk Dijual")
    plt.tight_layout()
    plt.show()
else:
    print("Kolom 'num_vendors' tidak ditemukan, analisis dilewati.")

# 12. Distribusi Lama Pasar Buka
plt.figure(figsize=(8, 5))
sns.histplot(df['months_open'], bins=30, kde=True)
plt.title("Distribusi Lama Pasar Buka (bulan)")
plt.xlabel("Bulan")
plt.tight_layout()
plt.show()

# 13. Perbandingan Produk Sayuran dan Buah
veg_sum = df['Vegetables'].sum()
fruit_sum = df['Fruits'].sum()
plt.figure(figsize=(6, 4))
plt.bar(['Vegetables', 'Fruits'], [veg_sum, fruit_sum], color=['green', 'orange'])
plt.title("Perbandingan Produk Sayuran dan Buah")
plt.ylabel("Jumlah Pasar yang Menjual")
plt.tight_layout()
plt.show()

# 14. Boxplot Jumlah Produk Dijual per Negara Bagian
plt.figure(figsize=(12, 6))
sns.boxplot(data=df, x='state', y='num_items_sold')
plt.title("Sebaran Jumlah Produk Dijual per Negara Bagian")
plt.xlabel("Negara Bagian")
plt.ylabel("Jumlah Produk Dijual")
plt.xticks(rotation=90)
plt.tight_layout()
plt.show()

# 15. Produk dengan Penjualan Terendah
product_counts_asc = df[product_columns].sum().sort_values()
plt.figure(figsize=(12, 6))
sns.barplot(x=product_counts_asc.index, y=product_counts_asc.values, palette="coolwarm")
plt.title("Produk dengan Penjualan Terendah")
plt.xlabel("Produk")
plt.ylabel("Jumlah Pasar yang Menjual")
plt.xticks(rotation=45)
plt.tight_layout()
plt.show()
